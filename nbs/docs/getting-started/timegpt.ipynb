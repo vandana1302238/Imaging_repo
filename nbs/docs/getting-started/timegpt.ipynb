{
  "cells": [
    {
      "cell_type": "code",
      "execution_count": 1,
      "id": "18102cea",
      "metadata": {
        "colab": {
          "base_uri": "https://localhost:8080/"
        },
        "id": "18102cea",
        "outputId": "6eb63dda-3ec7-4b43-87fd-4f828dcb1bf7"
      },
      "outputs": [
        {
          "output_type": "stream",
          "name": "stdout",
          "text": [
            "\u001b[?25l   \u001b[90m━━━━━━━━━━━━━━━━━━━━━━━━━━━━━━━━━━━━━━━━\u001b[0m \u001b[32m0.0/41.7 kB\u001b[0m \u001b[31m?\u001b[0m eta \u001b[36m-:--:--\u001b[0m\r\u001b[2K   \u001b[90m━━━━━━━━━━━━━━━━━━━━━━━━━━━━━━━━━━━━━━━━\u001b[0m \u001b[32m41.7/41.7 kB\u001b[0m \u001b[31m3.0 MB/s\u001b[0m eta \u001b[36m0:00:00\u001b[0m\n",
            "\u001b[?25h"
          ]
        }
      ],
      "source": [
        "#| hide\n",
        "!pip install -Uqq nixtla"
      ]
    },
    {
      "cell_type": "code",
      "execution_count": null,
      "id": "a50470ae",
      "metadata": {
        "id": "a50470ae"
      },
      "outputs": [],
      "source": [
        "#| hide\n",
        "from nixtla.utils import in_colab"
      ]
    },
    {
      "cell_type": "code",
      "execution_count": null,
      "id": "ace35684",
      "metadata": {
        "id": "ace35684"
      },
      "outputs": [],
      "source": [
        "#| hide\n",
        "IN_COLAB = in_colab()"
      ]
    },
    {
      "cell_type": "code",
      "execution_count": null,
      "id": "b1ea1aa8",
      "metadata": {
        "id": "b1ea1aa8"
      },
      "outputs": [],
      "source": [
        "#| hide\n",
        "if not IN_COLAB:\n",
        "    from nixtla.utils import colab_badge\n",
        "    from dotenv import load_dotenv"
      ]
    },
    {
      "cell_type": "markdown",
      "id": "6ecd9d32-9178-4768-bffa-d70c93c98311",
      "metadata": {
        "id": "6ecd9d32-9178-4768-bffa-d70c93c98311"
      },
      "source": [
        "# TimeGPT Quickstart\n",
        "\n",
        "> TimeGPT is a production ready, generative pretrained transformer for time series. It's capable of accurately predicting various domains such as retail, electricity, finance, and IoT with just a few lines of code 🚀."
      ]
    },
    {
      "cell_type": "code",
      "execution_count": null,
      "id": "2c48909a",
      "metadata": {
        "id": "2c48909a",
        "outputId": "c546577a-539e-4306-c714-f1a80b9095e1"
      },
      "outputs": [
        {
          "data": {
            "text/markdown": [
              "[![](https://colab.research.google.com/assets/colab-badge.svg)](https://colab.research.google.com/github/Nixtla/nixtla/blob/main/nbs/docs/getting-started/2_quickstart.ipynb)"
            ],
            "text/plain": [
              "<IPython.core.display.Markdown object>"
            ]
          },
          "metadata": {},
          "output_type": "display_data"
        }
      ],
      "source": [
        "#| echo: false\n",
        "if not IN_COLAB:\n",
        "    load_dotenv()\n",
        "    colab_badge('docs/getting-started/2_quickstart')"
      ]
    },
    {
      "cell_type": "markdown",
      "id": "7e5b10a6-b39c-4583-bc2c-ab0b70eeea28",
      "metadata": {
        "id": "7e5b10a6-b39c-4583-bc2c-ab0b70eeea28"
      },
      "source": [
        "## Step 1: Create a TimeGPT account and generate your API key\n",
        "\n",
        "* Go to [dashboard.nixtla.io](https://dashboard.nixtla.io) to activate your free trial and set up an account.\n",
        "* Sign in with Google, GitHub or your email\n",
        "* Create your API key by going to 'API Keys' in the menu and clicking on 'Create New API Key'\n",
        "* Your new key will appear. Copy the API key using the button on the right."
      ]
    },
    {
      "cell_type": "markdown",
      "id": "aa3705dd-6133-4eb0-8c53-8a8ff65ee455",
      "metadata": {
        "id": "aa3705dd-6133-4eb0-8c53-8a8ff65ee455"
      },
      "source": [
        "<img src=\"https://github.com/Nixtla/nixtla/blob/main/nbs/img/dashboard.png?raw=true\" alt=\"Dashboard for TimeGPT API keys. Keys is in the middle, with trash and copy buttons on the right.\" width=\"700\" />"
      ]
    },
    {
      "cell_type": "markdown",
      "id": "5f30be1a-3eaf-4133-8254-680e8f7cda72",
      "metadata": {
        "id": "5f30be1a-3eaf-4133-8254-680e8f7cda72"
      },
      "source": [
        "## Step 2: Install Nixtla"
      ]
    },
    {
      "cell_type": "markdown",
      "id": "73ad0fc4-bcf1-4b7e-8e6c-5969982e1b78",
      "metadata": {
        "id": "73ad0fc4-bcf1-4b7e-8e6c-5969982e1b78"
      },
      "source": [
        "In your favorite Python development environment:"
      ]
    },
    {
      "cell_type": "markdown",
      "id": "d9c35e70",
      "metadata": {
        "id": "d9c35e70"
      },
      "source": [
        "Install `nixtla` with `pip`:\n",
        "    \n",
        "```shell\n",
        "pip install nixtla\n",
        "```"
      ]
    },
    {
      "cell_type": "markdown",
      "id": "03e24b4f-6b8c-4ffa-82c6-f5b889fdd423",
      "metadata": {
        "id": "03e24b4f-6b8c-4ffa-82c6-f5b889fdd423"
      },
      "source": [
        "## Step 3: Import the Nixtla TimeGPT client"
      ]
    },
    {
      "cell_type": "code",
      "execution_count": null,
      "id": "9d984aea-1315-4d4e-8b4d-b23efe947be1",
      "metadata": {
        "id": "9d984aea-1315-4d4e-8b4d-b23efe947be1"
      },
      "outputs": [],
      "source": [
        "from nixtla import NixtlaClient"
      ]
    },
    {
      "cell_type": "markdown",
      "id": "8b73a131-390e-46b9-847b-173f7d3c869a",
      "metadata": {
        "id": "8b73a131-390e-46b9-847b-173f7d3c869a"
      },
      "source": [
        "You can instantiate the `NixtlaClient` class providing your authentication API key."
      ]
    },
    {
      "cell_type": "code",
      "execution_count": null,
      "id": "f1098659-f250-4663-b588-f9e17065cafa",
      "metadata": {
        "id": "f1098659-f250-4663-b588-f9e17065cafa"
      },
      "outputs": [],
      "source": [
        "nixtla_client = NixtlaClient(\n",
        "    api_key = 'nixak-xJGipZE30nfejfgqXlMh1OEeSelBU1BJP4clv2ewLjMwF9dqIxKr1U1rOBaL6NOExblsISNOpbKptD5N'\n",
        ")"
      ]
    },
    {
      "cell_type": "code",
      "execution_count": null,
      "id": "e5b8ea7f-e30e-4001-a7a6-9e935e12180a",
      "metadata": {
        "id": "e5b8ea7f-e30e-4001-a7a6-9e935e12180a"
      },
      "outputs": [],
      "source": [
        "#| hide\n",
        "if not IN_COLAB:\n",
        "    nixtla_client = NixtlaClient()"
      ]
    },
    {
      "cell_type": "markdown",
      "id": "8e7cea32-ade9-4b23-be93-9a4fbea7c6b2",
      "metadata": {
        "id": "8e7cea32-ade9-4b23-be93-9a4fbea7c6b2"
      },
      "source": [
        "Check your API key status with the `validate_api_key` method."
      ]
    },
    {
      "cell_type": "code",
      "execution_count": null,
      "id": "95fd6f32-8ada-4bd8-9083-77bb45bd2349",
      "metadata": {
        "id": "95fd6f32-8ada-4bd8-9083-77bb45bd2349",
        "outputId": "6c55b3b8-30ed-4649-b38f-a713692ab163"
      },
      "outputs": [
        {
          "name": "stderr",
          "output_type": "stream",
          "text": [
            "INFO:nixtla.nixtla_client:Happy Forecasting! :), If you have questions or need support, please email support@nixtla.io\n"
          ]
        },
        {
          "data": {
            "text/plain": [
              "True"
            ]
          },
          "execution_count": null,
          "metadata": {},
          "output_type": "execute_result"
        }
      ],
      "source": [
        "nixtla_client.validate_api_key()"
      ]
    },
    {
      "cell_type": "markdown",
      "id": "a2597400",
      "metadata": {
        "id": "a2597400"
      },
      "source": [
        "**This will get you started, but for more secure usage, see [Setting Up your API Key](https://docs.nixtla.io/docs/getting-started-setting_up_your_api_key).**"
      ]
    },
    {
      "cell_type": "markdown",
      "id": "8ca0d1f7-9730-4146-b6f3-596099ce6e3b",
      "metadata": {
        "id": "8ca0d1f7-9730-4146-b6f3-596099ce6e3b"
      },
      "source": [
        "## Step 4: Start making forecasts!\n",
        "\n",
        "Now you can start making forecasts! Let's import an example using the classic `AirPassengers` dataset. This dataset contains the monthly number of airline passengers in Australia between 1949 and 1960. First, load the dataset and plot it:"
      ]
    },
    {
      "cell_type": "code",
      "execution_count": null,
      "id": "687802f2-be84-4b81-95eb-44798c591daf",
      "metadata": {
        "id": "687802f2-be84-4b81-95eb-44798c591daf"
      },
      "outputs": [],
      "source": [
        "import pandas as pd"
      ]
    },
    {
      "cell_type": "code",
      "execution_count": null,
      "id": "fded6ec5-949a-44b8-9a4a-8fc8a5295e06",
      "metadata": {
        "id": "fded6ec5-949a-44b8-9a4a-8fc8a5295e06",
        "outputId": "1eed7dc7-5e9f-4715-fc4e-9e5139e36a6c"
      },
      "outputs": [
        {
          "data": {
            "text/html": [
              "<div>\n",
              "<style scoped>\n",
              "    .dataframe tbody tr th:only-of-type {\n",
              "        vertical-align: middle;\n",
              "    }\n",
              "\n",
              "    .dataframe tbody tr th {\n",
              "        vertical-align: top;\n",
              "    }\n",
              "\n",
              "    .dataframe thead th {\n",
              "        text-align: right;\n",
              "    }\n",
              "</style>\n",
              "<table border=\"1\" class=\"dataframe\">\n",
              "  <thead>\n",
              "    <tr style=\"text-align: right;\">\n",
              "      <th></th>\n",
              "      <th>timestamp</th>\n",
              "      <th>value</th>\n",
              "    </tr>\n",
              "  </thead>\n",
              "  <tbody>\n",
              "    <tr>\n",
              "      <th>0</th>\n",
              "      <td>1949-01-01</td>\n",
              "      <td>112</td>\n",
              "    </tr>\n",
              "    <tr>\n",
              "      <th>1</th>\n",
              "      <td>1949-02-01</td>\n",
              "      <td>118</td>\n",
              "    </tr>\n",
              "    <tr>\n",
              "      <th>2</th>\n",
              "      <td>1949-03-01</td>\n",
              "      <td>132</td>\n",
              "    </tr>\n",
              "    <tr>\n",
              "      <th>3</th>\n",
              "      <td>1949-04-01</td>\n",
              "      <td>129</td>\n",
              "    </tr>\n",
              "    <tr>\n",
              "      <th>4</th>\n",
              "      <td>1949-05-01</td>\n",
              "      <td>121</td>\n",
              "    </tr>\n",
              "  </tbody>\n",
              "</table>\n",
              "</div>"
            ],
            "text/plain": [
              "    timestamp  value\n",
              "0  1949-01-01    112\n",
              "1  1949-02-01    118\n",
              "2  1949-03-01    132\n",
              "3  1949-04-01    129\n",
              "4  1949-05-01    121"
            ]
          },
          "execution_count": null,
          "metadata": {},
          "output_type": "execute_result"
        }
      ],
      "source": [
        "df = pd.read_csv('/content/merged_output.csv')\n",
        "df.rename(columns={'TIME': 'ds', 'forecast': 'y'}, inplace=True)\n",
        "df.head()"
      ]
    },
    {
      "cell_type": "code",
      "source": [
        "df['ds'] = pd.to_datetime(df['ds'])\n",
        "df['unique_id'] = 'id1'\n",
        "df = df[['unique_id', 'ds', 'y']]\n",
        "df.head()"
      ],
      "metadata": {
        "id": "r79WaxGCukeq"
      },
      "id": "r79WaxGCukeq",
      "execution_count": null,
      "outputs": []
    },
    {
      "cell_type": "code",
      "source": [
        "print(df.shape)"
      ],
      "metadata": {
        "id": "HVughJ_num-j"
      },
      "id": "HVughJ_num-j",
      "execution_count": null,
      "outputs": []
    },
    {
      "cell_type": "code",
      "execution_count": null,
      "id": "6242b73d-fd43-41be-b4db-123cf7cd5b11",
      "metadata": {
        "id": "6242b73d-fd43-41be-b4db-123cf7cd5b11",
        "outputId": "9d501fbb-d6e7-4e20-9ae4-3dd21cc7306d"
      },
      "outputs": [
        {
          "data": {
            "image/png": "[encoded data removed]",
            "text/plain": [
              "<Figure size 1600x350 with 1 Axes>"
            ]
          },
          "execution_count": null,
          "metadata": {},
          "output_type": "execute_result"
        }
      ],
      "source": [
        "# nixtla_client.plot(df, time_col='timestamp', target_col='value')\n",
        "nixtla_client.plot(df, time_col='ds', target_col='y')"
      ]
    },
    {
      "cell_type": "markdown",
      "id": "defa26b8",
      "metadata": {
        "id": "defa26b8"
      },
      "source": [
        "> 📘 Data Requirements\n",
        ">\n",
        "> * Make sure the target variable column does not have missing or non-numeric values.\n",
        "> * Do not include gaps/jumps in the datestamps (for the given frequency) between the first and late datestamps. The forecast function will not impute missing dates.\n",
        "> * The format of the datestamp column should be readable by Pandas (see [this link](https://pandas.pydata.org/docs/reference/api/pandas.to_datetime.html) for more details).\n",
        ">\n",
        ">For further details go to [Data Requirements](https://docs.nixtla.io/docs/getting-started-data_requirements)."
      ]
    },
    {
      "cell_type": "markdown",
      "id": "19581d85",
      "metadata": {
        "id": "19581d85"
      },
      "source": [
        "> 👍 Save figures made with TimeGPT\n",
        ">\n",
        "> The `plot` method automatically displays figures when in a notebook environment. To save figures locally, you can do:\n",
        ">\n",
        "> `fig = nixtla_client.plot(df, time_col='timestamp', target_col='value')`\n",
        ">\n",
        ">`fig.savefig('plot.png', bbox_inches='tight')`"
      ]
    },
    {
      "cell_type": "markdown",
      "id": "7631f17b-0ca4-4cf1-9b89-182a7d85fda6",
      "metadata": {
        "id": "7631f17b-0ca4-4cf1-9b89-182a7d85fda6"
      },
      "source": [
        "### Forecast a longer horizon into the future"
      ]
    },
    {
      "cell_type": "markdown",
      "id": "5c4790e3",
      "metadata": {
        "id": "5c4790e3"
      },
      "source": [
        "Next, forecast the next 12 months using the SDK `forecast` method. Set the following parameters:\n",
        "\n",
        "- `df`: A pandas DataFrame containing the time series data.\n",
        "- `h`: Horizons is the number of steps ahead to forecast.\n",
        "- `freq`: The frequency of the time series in Pandas format. See [pandas’ available frequencies](https://pandas.pydata.org/pandas-docs/stable/user_guide/timeseries.html#offset-aliases). (If you don't provide any frequency, the SDK will try to infer it)\n",
        "- `time_col`: The column that identifies the datestamp.\n",
        "- `target_col`: The variable to forecast.\n"
      ]
    },
    {
      "cell_type": "code",
      "source": [
        "from utilsforecast.preprocessing import fill_gaps\n",
        "df.isna().sum()\n",
        "# Ensure there are no duplicate timestamps within each unique_id\n",
        "df = df.drop_duplicates(subset=['unique_id', 'ds'], keep='first')\n",
        "\n",
        "# Then, try filling the gaps again:\n",
        "print('Number of rows before filling gaps:', len(df))\n",
        "df = fill_gaps(df, freq='15min')\n",
        "print('Number of rows after filling gaps:', len(df))\n",
        "\n",
        "# Check for missing timestamps\n",
        "print(df['ds'].isnull().sum())\n",
        "\n",
        "# Check for duplicate timestamps\n",
        "print(df.duplicated(subset=['ds']).sum())"
      ],
      "metadata": {
        "id": "UJJ69N1-vwvt"
      },
      "id": "UJJ69N1-vwvt",
      "execution_count": null,
      "outputs": []
    },
    {
      "cell_type": "code",
      "source": [
        "df['y'] = df['y'].interpolate(method='linear', limit_direction='both')\n",
        "\n",
        "df.isna().sum() # check if there are any missing values"
      ],
      "metadata": {
        "id": "w_VfnhE4v6JS"
      },
      "id": "w_VfnhE4v6JS",
      "execution_count": null,
      "outputs": []
    },
    {
      "cell_type": "code",
      "source": [
        "df.head()"
      ],
      "metadata": {
        "id": "dazjMolpv-3E"
      },
      "id": "dazjMolpv-3E",
      "execution_count": null,
      "outputs": []
    },
    {
      "cell_type": "code",
      "source": [
        "nixtla_client.plot(df, time_col='ds', target_col='y')"
      ],
      "metadata": {
        "id": "fXvM5BCkwBRv"
      },
      "id": "fXvM5BCkwBRv",
      "execution_count": null,
      "outputs": []
    },
    {
      "cell_type": "code",
      "source": [
        "!pip install nbdev\n",
        "from nbdev import show_doc"
      ],
      "metadata": {
        "id": "Ln0olXrgwjzW"
      },
      "id": "Ln0olXrgwjzW",
      "execution_count": null,
      "outputs": []
    },
    {
      "cell_type": "code",
      "source": [
        "show_doc(nixtla_client.forecast)"
      ],
      "metadata": {
        "id": "uShFj8q8wkjQ"
      },
      "id": "uShFj8q8wkjQ",
      "execution_count": null,
      "outputs": []
    },
    {
      "cell_type": "code",
      "source": [
        "df.shape\n",
        "\n",
        "df.to_csv(\"processed_data.csv\")"
      ],
      "metadata": {
        "id": "A12xu74Kwpik"
      },
      "id": "A12xu74Kwpik",
      "execution_count": null,
      "outputs": []
    },
    {
      "cell_type": "code",
      "source": [
        "train_df = df.iloc[:-96]\n",
        "test_df = df.iloc[-96:]"
      ],
      "metadata": {
        "id": "1YDG8k9Lwq06"
      },
      "id": "1YDG8k9Lwq06",
      "execution_count": null,
      "outputs": []
    },
    {
      "cell_type": "code",
      "source": [
        "print(train_df.shape)\n",
        "print(test_df.shape)"
      ],
      "metadata": {
        "id": "kKRFlZzVws_f"
      },
      "id": "kKRFlZzVws_f",
      "execution_count": null,
      "outputs": []
    },
    {
      "cell_type": "code",
      "source": [
        "timegpt_fcst_df = nixtla_client.forecast(df=train_df, h=len(test_df), time_col='ds', freq=\"15min\", target_col='y')\n",
        "timegpt_fcst_df.head()"
      ],
      "metadata": {
        "id": "E2ii_QLOwu8S"
      },
      "id": "E2ii_QLOwu8S",
      "execution_count": null,
      "outputs": []
    },
    {
      "cell_type": "code",
      "source": [
        "len(test_df)\n",
        "test_df.head()"
      ],
      "metadata": {
        "id": "3ZWBdzWUwwdS"
      },
      "id": "3ZWBdzWUwwdS",
      "execution_count": null,
      "outputs": []
    },
    {
      "cell_type": "code",
      "source": [
        "len(train_df)\n",
        "train_df.head()"
      ],
      "metadata": {
        "id": "VkUM3UM7wx9V"
      },
      "id": "VkUM3UM7wx9V",
      "execution_count": null,
      "outputs": []
    },
    {
      "cell_type": "code",
      "source": [
        "nixtla_client.plot(test_df, timegpt_fcst_df, time_col='ds', target_col='y')"
      ],
      "metadata": {
        "id": "czPZgv0pwz8V"
      },
      "id": "czPZgv0pwz8V",
      "execution_count": null,
      "outputs": []
    },
    {
      "cell_type": "code",
      "source": [
        "timegpt_fcst_df_alone = timegpt_fcst_df.rename(columns={\"TimeGPT\":'y'})\n",
        "nixtla_client.plot(timegpt_fcst_df_alone)"
      ],
      "metadata": {
        "id": "f5LYGpWAw1sd"
      },
      "id": "f5LYGpWAw1sd",
      "execution_count": null,
      "outputs": []
    },
    {
      "cell_type": "code",
      "source": [
        "nixtla_client.plot(df, timegpt_fcst_df, time_col='ds', target_col='y')"
      ],
      "metadata": {
        "id": "E9GOvXoow492"
      },
      "id": "E9GOvXoow492",
      "execution_count": null,
      "outputs": []
    },
    {
      "cell_type": "code",
      "source": [
        "nixtla_client.plot(df, timegpt_fcst_df, time_col='ds', target_col='y', max_insample_length=200)\n"
      ],
      "metadata": {
        "id": "4cmEpRJVw7Ef"
      },
      "id": "4cmEpRJVw7Ef",
      "execution_count": null,
      "outputs": []
    }
  ],
  "metadata": {
    "kernelspec": {
      "display_name": "Python 3",
      "name": "python3"
    },
    "colab": {
      "provenance": [],
      "gpuType": "T4"
    },
    "accelerator": "GPU"
  },
  "nbformat": 4,
  "nbformat_minor": 5
}